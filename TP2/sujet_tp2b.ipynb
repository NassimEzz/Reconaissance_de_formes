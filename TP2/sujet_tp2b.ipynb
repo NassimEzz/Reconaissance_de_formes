{
 "cells": [
  {
   "cell_type": "markdown",
   "metadata": {},
   "source": [
    "La première chose à faire est d'installer graphkit-learn(https://github.com/jajupmochi/graphikit-learn). Pour cela il suffit de taper:\n",
    "\n",
    "pip install graphkit-learn\n",
    "\n"
   ]
  },
  {
   "cell_type": "code",
   "execution_count": 94,
   "metadata": {},
   "outputs": [],
   "source": [
    "from gklearn.utils.graphfiles import loadDataset\n",
    "import networkx as nx\n",
    "import matplotlib\n",
    "matplotlib.use('TkAgg')\n",
    "import matplotlib.pyplot as plt\n",
    "import numpy as np\n",
    "\n",
    "from __future__ import print_function\n",
    "import torch\n",
    "\n",
    "import sys\n",
    "sys.path.append('/home/public/REC_FORMES/gedlibpy')\n",
    "import librariesImport\n",
    "import gedlibpy"
   ]
  },
  {
   "cell_type": "code",
   "execution_count": 121,
   "metadata": {},
   "outputs": [
    {
     "name": "stdout",
     "output_type": "stream",
     "text": [
      "edge max label 3\n",
      "0.0 0.0\n",
      "['C', 'N', 'O']\n",
      "{'C': 0, 'N': 1, 'O': 2} 3\n",
      "dict= {'C': 0, 'N': 1, 'O': 2}\n",
      "nb_edge_labels= 3\n",
      "nb nodes: 16 16\n"
     ]
    }
   ],
   "source": [
    "Gs,y = loadDataset('/home/public/REC_FORMES/MAO/dataset.ds')\n",
    "\n",
    "\n",
    "\n",
    "def label_to_color(label):\n",
    "    if label == 'C':\n",
    "        return 0.1\n",
    "    elif label == 'O':\n",
    "        return 0.8\n",
    "    \n",
    "def nodes_to_color_sequence(G):\n",
    "    return [label_to_color(c[1]['label'][0]) for c in G.nodes(data=True)]\n",
    "\n",
    "\n",
    "#for e in Gs[13].edges():\n",
    "#    print(Gs[13][e[0]][e[1]]['bond_type'])\n",
    "print('edge max label',max(max([[G[e[0]][e[1]]['bond_type'] for e in G.edges()] for G in Gs])))\n",
    "G1 = Gs[7]\n",
    "G2 = Gs[1]\n",
    "print(y[1],y[9])\n",
    "plt.figure(0)\n",
    "nx.draw_networkx(G1,with_labels=True,node_color = nodes_to_color_sequence(G1),cmap='autumn')\n",
    "\n",
    "plt.figure(1)\n",
    "nx.draw_networkx(G2,with_labels=True,node_color = nodes_to_color_sequence(G2),cmap='autumn')\n",
    "\n",
    "\n",
    "\n",
    "def build_node_dictionnary(GraphList):\n",
    "    #extraction de tous les labels d'atomes\n",
    "    node_labels=[]\n",
    "    for G in Gs:\n",
    "        for v in nx.nodes(G):\n",
    "            if not G.nodes[v]['label'][0] in node_labels:\n",
    "                node_labels.append(G.nodes[v]['label'][0])\n",
    "    node_labels.sort()\n",
    "    #extraction d'un dictionnaire permettant de numéroter chaque label par un numéro.\n",
    "    dict={}\n",
    "    k=0\n",
    "    for label in node_labels:\n",
    "        dict[label]=k\n",
    "        k=k+1\n",
    "    print(node_labels)\n",
    "    print(dict,len(dict))\n",
    "    return dict,max(max([[int(G[e[0]][e[1]]['bond_type']) for e in G.edges()] for G in GraphList]))\n",
    "\n",
    "\n",
    "                   \n",
    "dict,nb_edge_labels=build_node_dictionnary(Gs)\n",
    "print('dict=',dict)\n",
    "print('nb_edge_labels=',nb_edge_labels)\n",
    "\n",
    "#A1=nx.to_scipy_sparse_matrix(G1,dtype=int,weight='bond_type').todense()\n",
    "lab1=[dict[G1.nodes[v]['label'][0]] for v in nx.nodes(G1)]\n",
    "nb_node1=nx.number_of_nodes(G1)#A1.shape[0]\n",
    "print('nb nodes:',nb_node1,G1.number_of_nodes())\n",
    "\n",
    "#A2=nx.to_scipy_sparse_matrix(G2,dtype=int,weight='bond_type').todense()\n",
    "lab2=[dict[G2.nodes[v]['label'][0]] for v in nx.nodes(G2)]\n",
    "nb_node2=nx.number_of_nodes(G2)#A2.shape[0]\n",
    "\n",
    "#definition des coûts de substitution/insertion/suppression.\n",
    "\n",
    "node_cost=np.full((len(dict),len(dict)),1)\n",
    "node_del=2\n",
    "node_ins=2\n",
    "node_cost[np.diag_indices(len(dict))]=0\n",
    "                   \n",
    "edge_cost=np.full((nb_edge_labels+1,nb_edge_labels+1),.5)\n",
    "edge_del=1\n",
    "edge_ins=1\n",
    "edge_cost[np.diag_indices(nb_edge_labels+1)]=0\n",
    " \n",
    "\n",
    "\n",
    "\n",
    "\n",
    "\n",
    "\n",
    "\n",
    "\n",
    "\n",
    "\n",
    "\n",
    "plt.show()"
   ]
  },
  {
   "cell_type": "markdown",
   "metadata": {},
   "source": [
    "En utilisant les tableaux node_cost, node_ins et node_del completez la fonction cost_node qui remplie une matrice de taille $(n+1)\\times (m+1)$ (n,m taille de G1 et G2) contenant les coûts d'affectation, de suppression et d'insertion des sommets."
   ]
  },
  {
   "cell_type": "code",
   "execution_count": 116,
   "metadata": {
    "scrolled": false
   },
   "outputs": [
    {
     "name": "stdout",
     "output_type": "stream",
     "text": [
      "[[0 1 1 1 1 1 1 1 1 1 0 1 2]\n",
      " [1 0 0 0 0 0 0 0 0 0 1 0 2]\n",
      " [1 0 0 0 0 0 0 0 0 0 1 0 2]\n",
      " [1 0 0 0 0 0 0 0 0 0 1 0 2]\n",
      " [1 0 0 0 0 0 0 0 0 0 1 0 2]\n",
      " [1 0 0 0 0 0 0 0 0 0 1 0 2]\n",
      " [1 0 0 0 0 0 0 0 0 0 1 0 2]\n",
      " [1 0 0 0 0 0 0 0 0 0 1 0 2]\n",
      " [1 0 0 0 0 0 0 0 0 0 1 0 2]\n",
      " [1 0 0 0 0 0 0 0 0 0 1 0 2]\n",
      " [0 1 1 1 1 1 1 1 1 1 0 1 2]\n",
      " [1 0 0 0 0 0 0 0 0 0 1 0 2]\n",
      " [1 0 0 0 0 0 0 0 0 0 1 0 2]\n",
      " [1 0 0 0 0 0 0 0 0 0 1 0 2]\n",
      " [1 0 0 0 0 0 0 0 0 0 1 0 2]\n",
      " [1 0 0 0 0 0 0 0 0 0 1 0 2]\n",
      " [2 2 2 2 2 2 2 2 2 2 2 2 0]]\n"
     ]
    }
   ],
   "source": [
    "def cost_node(G1,G2):\n",
    "    nb_node1=G1.number_of_nodes()\n",
    "    nb_node2=G2.number_of_nodes()\n",
    "\n",
    "    C=np.full((nb_node1+1,nb_node2+1),0)\n",
    "\n",
    "    C[-1][:-1] = node_ins\n",
    "    \n",
    "    for line in C[:-1]:\n",
    "        line[-1] = node_del\n",
    "    \n",
    "    for i in range(nb_node1):\n",
    "        for j in range(nb_node2):\n",
    "            C[i][j] = node_cost[dict[G1.nodes[i]['label'][0]]][dict[G2.nodes[j]['label'][0]]]\n",
    "            \n",
    "    # To be completed\n",
    "    return C\n",
    "\n",
    "print(cost_node(G1, G2))"
   ]
  },
  {
   "cell_type": "markdown",
   "metadata": {},
   "source": [
    "Completez le code de la fonction cost_map_edge qui renvoie le coût d'appariement optimal entre les arêtes incidentes au sommet i de G1 et le sommet j de G2. On utilisera pour cela les fonctions de coût. On pourra commencer par initialiser deux listes edge_i et edge_j contenant les labels des arêtes incidentes à i et j. "
   ]
  },
  {
   "cell_type": "code",
   "execution_count": null,
   "metadata": {
    "scrolled": true
   },
   "outputs": [],
   "source": [
    "def cost_map_edge(G1,G2,i,j,edge_cost,edge_del,edge_ins):\n",
    "    edge_i = []\n",
    "    edge_j = []\n",
    "    \n",
    "    # initialisation of both lists edge_i and edge_j\n",
    "    neighbors_i = G1.adj[i]\n",
    "    neighbors_j = G2.adj[j]\n",
    "    \n",
    "    for neighbor in neighbors_i.values():\n",
    "        edge_i.append(int(neighbor['bond_type']))\n",
    "    for neighbor in neighbors_j.values():\n",
    "        edge_j.append(int(neighbor['bond_type']))\n",
    "        \n",
    "        \n",
    "    C=np.full((len(edge_i)+1,len(edge_j)+1),0, dtype='float')\n",
    "    \n",
    "    #initialization of C. To be completed.\n",
    "    C[-1, :-1] = edge_ins\n",
    "    C[:-1, -1] = edge_del\n",
    "        \n",
    "    for first_edge_index in range(len(edge_i)):\n",
    "        for second_edge_index in range(len(edge_j)):\n",
    "            C[first_edge_index, second_edge_index] = edge_cost[edge_i[first_edge_index], edge_j[second_edge_index]]\n",
    "    \n",
    "    #application of the Hungarian algortithm on C.\n",
    "    result=gedlibpy.hungarian_LSAPE(C)\n",
    "    \n",
    "    cost=np.array(result[2]).sum()+np.array(result[3]).sum()\n",
    "    \n",
    "    return cost\n",
    "\n",
    "cost_map_edge(G1, G2, 1, 1, edge_cost, edge_del, edge_ins)"
   ]
  },
  {
   "cell_type": "markdown",
   "metadata": {},
   "source": [
    "Completez le code de la fonction cost_edge qui renvoie une matrice $(n+1)\\times (m+1)$ (n,m : taille des deux graphes) codant le coût d'appariement des paires de sommets uniquement en termes d'arêtes. "
   ]
  },
  {
   "cell_type": "code",
   "execution_count": 117,
   "metadata": {},
   "outputs": [
    {
     "data": {
      "text/plain": [
       "array([[0, 1, 0, 1, 0, 0, 0, 0, 1, 0, 0, 1, 2],\n",
       "       [1, 0, 1, 0, 1, 1, 1, 1, 0, 1, 1, 2, 3],\n",
       "       [0, 1, 0, 1, 0, 0, 0, 0, 1, 0, 0, 1, 2],\n",
       "       [1, 0, 1, 0, 1, 1, 1, 1, 0, 1, 1, 2, 3],\n",
       "       [0, 1, 0, 1, 0, 0, 0, 0, 1, 0, 0, 1, 2],\n",
       "       [0, 1, 0, 1, 0, 0, 0, 0, 1, 0, 0, 1, 2],\n",
       "       [0, 1, 0, 1, 0, 0, 0, 0, 1, 0, 0, 1, 2],\n",
       "       [0, 1, 0, 1, 0, 0, 0, 0, 1, 0, 0, 1, 2],\n",
       "       [1, 0, 1, 0, 1, 1, 1, 1, 0, 1, 1, 2, 3],\n",
       "       [0, 1, 0, 1, 0, 0, 0, 0, 1, 0, 0, 1, 2],\n",
       "       [1, 0, 1, 0, 1, 1, 1, 1, 0, 1, 1, 2, 3],\n",
       "       [0, 1, 0, 1, 0, 0, 0, 0, 1, 0, 0, 1, 2],\n",
       "       [0, 1, 0, 1, 0, 0, 0, 0, 1, 0, 0, 1, 2],\n",
       "       [0, 1, 0, 1, 0, 0, 0, 0, 1, 0, 0, 1, 2],\n",
       "       [1, 2, 1, 2, 1, 1, 1, 1, 2, 1, 1, 0, 1],\n",
       "       [1, 2, 1, 2, 1, 1, 1, 1, 2, 1, 1, 0, 1],\n",
       "       [2, 3, 2, 3, 2, 2, 2, 2, 3, 2, 2, 1, 0]])"
      ]
     },
     "execution_count": 117,
     "metadata": {},
     "output_type": "execute_result"
    }
   ],
   "source": [
    "def cost_edge(G1,G2,edge_cost,edge_del,edge_ins):\n",
    "    nb_node1=G1.number_of_nodes()\n",
    "    nb_node2=G2.number_of_nodes()\n",
    "    C=np.full((nb_node1+1,nb_node2+1),0)\n",
    "\n",
    "    \n",
    "    G1_edges = G1.edges\n",
    "    G2_edges = G2.edges\n",
    "    \n",
    "    edges_bond_type_G1 = []\n",
    "    edges_bond_type_G2 = []\n",
    "    \n",
    "    for g1 in G1_edges.values():\n",
    "        edges_bond_type_G1.append(int(g1['bond_type']))\n",
    "    for g2 in G2_edges.values():\n",
    "        edges_bond_type_G2.append(int(g2['bond_type']))\n",
    "    \n",
    "    for j in range(nb_node2):\n",
    "        C[-1,j] = edge_ins*G2.degree(j)\n",
    "    for i in range(nb_node1):\n",
    "        C[i,-1] = edge_del*G1.degree(i)\n",
    "    \n",
    "    for e1 in range(nb_node1):\n",
    "        for e2 in range(nb_node2):\n",
    "            C[e1, e2] = cost_map_edge(G1,G2,e1,e2,edge_cost,edge_del,edge_ins)\n",
    "        \n",
    "    return C\n",
    "\n",
    "cost_edge(G1, G2, edge_cost, edge_del, edge_ins)"
   ]
  },
  {
   "cell_type": "markdown",
   "metadata": {},
   "source": [
    "On donne ci-dessous le code de la fonction compute_graph_mapping qui calcule un mapping à partir d'une matrice de coûts. Le premier tableau renvoyé indique le mapping des élements du premier ensemble vers le second. Le deuxième tableau indique le mapping des éléments du second ensemble vers le premier le dernier argument indique le coût de l'appariement. \n",
    "\n",
    "A partir de cette fonction calculez le coût de l'appariement optimal induit par la matrice de coût node_cost+$\\frac{1}{2}$edge_cost. Le coût retourné est une borne inférieure de la ged (cf cours)."
   ]
  },
  {
   "cell_type": "code",
   "execution_count": 118,
   "metadata": {},
   "outputs": [
    {
     "name": "stdout",
     "output_type": "stream",
     "text": [
      "lower bound = 12.0\n"
     ]
    }
   ],
   "source": [
    "def compute_graph_mapping(C):\n",
    "    result=gedlibpy.hungarian_LSAPE(C)\n",
    "    cost=np.array(result[2]).sum()+np.array(result[3]).sum()\n",
    "\n",
    "    return result[0],result[1],cost\n",
    "\n",
    "#to be completed\n",
    "edge_cost = cost_edge(G1,G2,edge_cost,edge_del,edge_ins)\n",
    "node_cost = cost_node(G1,G2)\n",
    "\n",
    "C = node_cost + (1/2) * edge_cost\n",
    "rho,var_rho,lower_bound=compute_graph_mapping(C)\n",
    "print('lower bound =',lower_bound)"
   ]
  },
  {
   "cell_type": "markdown",
   "metadata": {},
   "source": [
    "Définissez le code de la fonction from_mapping_function_to_matrix qui renvoie une matrice d'$\\epsilon$-assignement à partir des deux fonctions rho et varrho. \n",
    "\n",
    "Calculez l'appariement optimal (cout+fonctions) pour une matrice de coût égale au coût sur les noeuds + le coût sur les arêtes. Utilisez la fonction ci-dessus pour en déduire le coût de la ged uniquement en termes de sommets. "
   ]
  },
  {
   "cell_type": "code",
   "execution_count": 119,
   "metadata": {},
   "outputs": [
    {
     "data": {
      "text/plain": [
       "array([[1., 0., 0., 0., 0., 0., 0., 0., 0., 0., 0., 0., 0.],\n",
       "       [0., 1., 0., 0., 0., 0., 0., 0., 0., 0., 0., 0., 0.],\n",
       "       [0., 0., 1., 0., 0., 0., 0., 0., 0., 0., 0., 0., 0.],\n",
       "       [0., 0., 0., 1., 0., 0., 0., 0., 0., 0., 0., 0., 0.],\n",
       "       [0., 0., 0., 0., 1., 0., 0., 0., 0., 0., 0., 0., 0.],\n",
       "       [0., 0., 0., 0., 0., 1., 0., 0., 0., 0., 0., 0., 0.],\n",
       "       [0., 0., 0., 0., 0., 0., 1., 0., 0., 0., 0., 0., 0.],\n",
       "       [0., 0., 0., 0., 0., 0., 0., 1., 0., 0., 0., 0., 0.],\n",
       "       [0., 0., 0., 0., 0., 0., 0., 0., 1., 0., 0., 0., 0.],\n",
       "       [0., 0., 0., 0., 0., 0., 0., 0., 0., 1., 0., 0., 0.],\n",
       "       [0., 0., 0., 0., 0., 0., 0., 0., 0., 0., 1., 0., 0.],\n",
       "       [0., 0., 0., 0., 0., 0., 0., 0., 0., 0., 0., 1., 0.],\n",
       "       [0., 0., 0., 0., 0., 0., 0., 0., 0., 0., 0., 0., 1.],\n",
       "       [0., 0., 0., 0., 0., 0., 0., 0., 0., 0., 0., 0., 1.],\n",
       "       [0., 0., 0., 0., 0., 0., 0., 0., 0., 0., 0., 0., 1.],\n",
       "       [0., 0., 0., 0., 0., 0., 0., 0., 0., 0., 0., 0., 1.],\n",
       "       [0., 0., 0., 0., 0., 0., 0., 0., 0., 0., 0., 0., 0.]])"
      ]
     },
     "execution_count": 119,
     "metadata": {},
     "output_type": "execute_result"
    }
   ],
   "source": [
    "def from_mapping_function_to_matrix(rho,var_rho):\n",
    "    n=len(rho)\n",
    "    m=len(var_rho)\n",
    "    X=np.zeros((n+1,m+1))\n",
    "\n",
    "    for i in range(n):\n",
    "        X[i, int(rho[i])] = 1\n",
    "    \n",
    "    for k in range(m):\n",
    "        X[int(var_rho[k]), k] = 1\n",
    "        \n",
    "    return X\n",
    "\n",
    "from_mapping_function_to_matrix(rho, var_rho)"
   ]
  },
  {
   "cell_type": "markdown",
   "metadata": {},
   "source": [
    "Définissez le code de la fonction ged_edge qui calcule le coût de la ged uniquement en termes d'arêtes à partir des appariements définis par rho et varrho. Le principe est le suivant:\n",
    "1. Pour toute arête (i,j) de G1\n",
    "    * Soient (k,l) les images de i et j par rho.\n",
    "    * Si k ou l ne correspondent pas à un sommet de G2, ajouter un coût de suppression d'arête\n",
    "    * Sinon, si $(k,l) \\in E_2$  ajouter un coût de substitution\n",
    "    * Sinon si $(k,l)\\not\\in E_2$ ajouter un coût de suppression\n",
    "2. Pour toute arête (k,l) de G2\n",
    "    * Soient (i,j) les images de (k,l) par varrho\n",
    "    * Si i ou j ne correspondent pas à un sommet de G1, ajouter un coût d'insertion.\n",
    "    * Si $(i,j)\\not\\in E_1$, ajouter un coût d'insertion.\n",
    "\n",
    "Utilisez cette fonction et le calcul précédent pour calculer une borne supérieure de la distance d'édition. "
   ]
  },
  {
   "cell_type": "code",
   "execution_count": 120,
   "metadata": {},
   "outputs": [
    {
     "name": "stdout",
     "output_type": "stream",
     "text": [
      "ged = 4\n",
      "upper bound = 12.0\n"
     ]
    }
   ],
   "source": [
    "ged = 0\n",
    "\n",
    "def ged_edge(G1,G2,rho,varrho,edge_cost,edge_del,edge_ins):\n",
    "    edge_ged=0\n",
    "    G1_nodes = G1.nodes()\n",
    "    G2_nodes = G2.nodes()\n",
    "    \n",
    "    G1_edges = nx.edges(G1)\n",
    "    G2_edges = nx.edges(G2)\n",
    "    \n",
    "    for e1 in G1_edges:\n",
    "        i, j = e1[0], e1[1]\n",
    "        k, l = rho[i], rho[j]\n",
    "        if k not in G2_nodes or l not in G2_nodes:\n",
    "            edge_ged += edge_del\n",
    "        elif (k,l) in G2_edges:\n",
    "            edge_ged += edge_cost[int(G1.edges[i, j]['bond_type']), int(G2.edges[k, l]['bond_type'])]\n",
    "        elif (k,l) not in G2_edges:\n",
    "            edge_ged += edge_del\n",
    "            \n",
    "        \n",
    "    for e2 in nx.edges(G2):\n",
    "        k, l = e2[0], e2[1]\n",
    "        i, j = varrho[k], varrho[l]\n",
    "        if i not in G1_nodes or j not in G1_nodes:\n",
    "            edge_ged += edge_ins\n",
    "        elif (i,j) not in G1_edges:\n",
    "            edge_ged += edge_ins\n",
    "            \n",
    "    return edge_ged\n",
    "\n",
    "ged+=ged_edge(G1,G2,rho,var_rho,edge_cost,edge_del,edge_ins)\n",
    "print('ged =',ged)\n",
    "\n",
    "edge_cost = cost_edge(G1,G2,edge_cost,edge_del,edge_ins)\n",
    "node_cost = cost_node(G1,G2)\n",
    "\n",
    "C = node_cost + edge_cost\n",
    "rho,var_rho,cost=compute_graph_mapping(C)\n",
    "X = from_mapping_function_to_matrix(rho, var_rho)\n",
    "\n",
    "upper_bound = (X*node_cost).sum() + ged_edge(G1,G2,rho,var_rho,edge_cost,edge_del,edge_ins)\n",
    "print(\"upper bound =\", upper_bound)"
   ]
  }
 ],
 "metadata": {
  "kernelspec": {
   "display_name": "Python 3",
   "language": "python",
   "name": "python3"
  },
  "language_info": {
   "codemirror_mode": {
    "name": "ipython",
    "version": 3
   },
   "file_extension": ".py",
   "mimetype": "text/x-python",
   "name": "python",
   "nbconvert_exporter": "python",
   "pygments_lexer": "ipython3",
   "version": "3.8.10"
  }
 },
 "nbformat": 4,
 "nbformat_minor": 4
}
